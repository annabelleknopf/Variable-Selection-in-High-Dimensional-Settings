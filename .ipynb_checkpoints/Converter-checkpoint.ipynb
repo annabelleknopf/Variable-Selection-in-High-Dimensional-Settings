{
 "cells": [
  {
   "cell_type": "code",
   "execution_count": 10,
   "id": "66a26ce7-b47c-48aa-a10c-34e8b6ebf832",
   "metadata": {},
   "outputs": [
    {
     "name": "stdout",
     "output_type": "stream",
     "text": [
      "[NbConvertApp] Converting notebook Model_Selection.ipynb to python\n",
      "[NbConvertApp] Writing 53119 bytes to model_selection.py\n"
     ]
    }
   ],
   "source": [
    "!jupyter nbconvert --to=python \"Model_Selection.ipynb\" --output=model_selection.py"
   ]
  },
  {
   "cell_type": "code",
   "execution_count": 14,
   "id": "33095741-f074-4263-958d-abbc93efd0ea",
   "metadata": {},
   "outputs": [
    {
     "name": "stdout",
     "output_type": "stream",
     "text": [
      "[NbConvertApp] Converting notebook Simulation1.ipynb to python\n",
      "[NbConvertApp] Writing 6288 bytes to simulation1.py\n"
     ]
    }
   ],
   "source": [
    "!jupyter nbconvert --to=python \"Simulation1.ipynb\" --output=simulation1.py"
   ]
  },
  {
   "cell_type": "code",
   "execution_count": 12,
   "id": "43c28463-ad8a-4693-82f2-8fc7e7070df3",
   "metadata": {},
   "outputs": [
    {
     "name": "stdout",
     "output_type": "stream",
     "text": [
      "[NbConvertApp] Converting notebook Simulation1A.ipynb to python\n",
      "[NbConvertApp] Writing 6834 bytes to simulation1A.py\n"
     ]
    }
   ],
   "source": [
    "!jupyter nbconvert --to=python \"Simulation1A.ipynb\" --output=simulation1A.py"
   ]
  },
  {
   "cell_type": "code",
   "execution_count": 5,
   "id": "b95e9c74-918b-4a9d-b04e-2a504fcc6500",
   "metadata": {},
   "outputs": [
    {
     "name": "stdout",
     "output_type": "stream",
     "text": [
      "[NbConvertApp] Converting notebook Simulation2.ipynb to python\n",
      "[NbConvertApp] Writing 12759 bytes to simulation2.py\n"
     ]
    }
   ],
   "source": [
    "!jupyter nbconvert --to=python \"Simulation2.ipynb\" --output=simulation2.py"
   ]
  },
  {
   "cell_type": "code",
   "execution_count": 15,
   "id": "b1bf3de9-224a-4dce-b27b-34c5538f4e9d",
   "metadata": {},
   "outputs": [
    {
     "name": "stdout",
     "output_type": "stream",
     "text": [
      "[NbConvertApp] Converting notebook Simulation3.ipynb to python\n",
      "[NbConvertApp] Writing 13730 bytes to simulation3.py\n"
     ]
    }
   ],
   "source": [
    "!jupyter nbconvert --to=python \"Simulation3.ipynb\" --output=simulation3.py"
   ]
  },
  {
   "cell_type": "code",
   "execution_count": 7,
   "id": "cc907827-d6d6-4801-8626-ec1f35de2a32",
   "metadata": {},
   "outputs": [
    {
     "name": "stdout",
     "output_type": "stream",
     "text": [
      "[NbConvertApp] Converting notebook Simulation4.ipynb to python\n",
      "[NbConvertApp] Writing 9320 bytes to simulation4.py\n"
     ]
    }
   ],
   "source": [
    "!jupyter nbconvert --to=python \"Simulation4.ipynb\" --output=simulation4.py"
   ]
  },
  {
   "cell_type": "code",
   "execution_count": 7,
   "id": "43e1408a-9b5a-4f73-96cd-fc9666491678",
   "metadata": {},
   "outputs": [
    {
     "name": "stdout",
     "output_type": "stream",
     "text": [
      "[NbConvertApp] Converting notebook RealData.ipynb to python\n",
      "[NbConvertApp] Writing 3592 bytes to realdata.py\n"
     ]
    }
   ],
   "source": [
    "!jupyter nbconvert --to=python \"RealData.ipynb\" --output=realdata.py"
   ]
  },
  {
   "cell_type": "code",
   "execution_count": 2,
   "id": "1bda64c8-4ac2-4b01-9a06-9cfe944d872d",
   "metadata": {},
   "outputs": [
    {
     "name": "stdout",
     "output_type": "stream",
     "text": [
      "[NbConvertApp] Converting notebook Simulation2_50000.ipynb to python\n",
      "[NbConvertApp] Writing 10437 bytes to Simulation2_50000.py\n"
     ]
    }
   ],
   "source": [
    "!jupyter nbconvert --to=python \"Simulation2_50000.ipynb\" --output=Simulation2_50000.py"
   ]
  },
  {
   "cell_type": "code",
   "execution_count": 16,
   "id": "c9d95b16-dc13-45d7-920d-33d052d01b19",
   "metadata": {},
   "outputs": [
    {
     "name": "stdout",
     "output_type": "stream",
     "text": [
      "[NbConvertApp] Converting notebook Untitled.ipynb to python\n",
      "[NbConvertApp] Writing 4409 bytes to simu1_fix.py\n"
     ]
    }
   ],
   "source": [
    "!jupyter nbconvert --to=python \"Untitled.ipynb\" --output=simu1_fix.py"
   ]
  },
  {
   "cell_type": "code",
   "execution_count": null,
   "id": "11fef039-834a-41eb-8072-9871b049b271",
   "metadata": {},
   "outputs": [],
   "source": []
  }
 ],
 "metadata": {
  "kernelspec": {
   "display_name": "Python 3 (ipykernel)",
   "language": "python",
   "name": "python3"
  },
  "language_info": {
   "codemirror_mode": {
    "name": "ipython",
    "version": 3
   },
   "file_extension": ".py",
   "mimetype": "text/x-python",
   "name": "python",
   "nbconvert_exporter": "python",
   "pygments_lexer": "ipython3",
   "version": "3.12.3"
  }
 },
 "nbformat": 4,
 "nbformat_minor": 5
}

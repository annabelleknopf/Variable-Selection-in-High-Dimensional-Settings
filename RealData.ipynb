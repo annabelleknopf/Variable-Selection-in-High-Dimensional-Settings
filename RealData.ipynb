{
 "cells": [
  {
   "cell_type": "code",
   "execution_count": 6,
   "id": "648f589b-5d4c-417c-9755-e925a3f62e36",
   "metadata": {},
   "outputs": [],
   "source": [
    "#  REAL DATA - eQTL mapping\n",
    "\n",
    "#\n",
    "#  Data set is available at ftp://ftp.sanger.ac.uk/pub/genevar/\n",
    "#\n",
    "#  For convenience we provide the file Sangerdata.Rdata which contains\n",
    "#  all the data already in an Rdata file which can be found in the \"Data\" folder.\n",
    "#"
   ]
  },
  {
   "cell_type": "code",
   "execution_count": 7,
   "id": "d0f491ca-f550-43b9-ba12-0942517034fc",
   "metadata": {},
   "outputs": [],
   "source": [
    "import os\n",
    "import pickle\n",
    "import numpy as np\n",
    "from time import time\n",
    "import torch\n",
    "import pyreadr\n",
    "\n",
    "from sklearn.preprocessing import scale\n",
    "\n",
    "import warnings\n",
    "warnings.filterwarnings(\n",
    "    \"ignore\",\n",
    "    message=r'Environment variable \".*\" redefined by R and overriding existing variable\\.',\n",
    "    category=UserWarning,\n",
    "    module=r\"rpy2\\.rinterface.*\",\n",
    ")\n",
    "from model_selection import (\n",
    "    stepwise_plain,\n",
    "    L0opt_CD,\n",
    "    L0opt_CDPSI,\n",
    "    lassonet,\n",
    "    lassonet_plus,\n",
    "    deep2stage,\n",
    "    deep2stage_plus\n",
    ")"
   ]
  },
  {
   "cell_type": "code",
   "execution_count": 8,
   "id": "902b919d-8104-435c-b241-bd1662729138",
   "metadata": {},
   "outputs": [],
   "source": [
    "# --- Konfiguration ---\n",
    "results_folder = \"ResultsRealData\"\n",
    "os.makedirs(results_folder, exist_ok=True)\n",
    "\n",
    "def reseed(seed: int, use_torch: bool = False):\n",
    "    \"\"\"Setzt NumPy/Random (und optional Torch) deterministisch.\"\"\"\n",
    "    np.random.seed(seed)\n",
    "    import random as _random\n",
    "    _random.seed(seed)\n",
    "    if use_torch and (torch is not None):\n",
    "        torch.manual_seed(seed)\n",
    "        torch.cuda.manual_seed_all(seed)\n",
    "        # optional deterministischer machen:\n",
    "        if hasattr(torch.backends, \"cudnn\"):\n",
    "            torch.backends.cudnn.benchmark = False\n",
    "\n",
    "def make_call_seed(method_idx: int, gene_row: int, base: int = 19091303) -> int:\n",
    "    \"\"\"\n",
    "    Stabiler Seed pro Methoden-Call – abgeleitet aus (gene_row, Methode).\n",
    "    So bleibt es reproduzierbar, auch wenn du später ein anderes Gen nimmst.\n",
    "    \"\"\"\n",
    "    val = (base ^ (gene_row * 1009) ^ (method_idx * 101))\n",
    "    return int(val & 0x7FFF_FFFF)"
   ]
  },
  {
   "cell_type": "code",
   "execution_count": 9,
   "id": "983752fb-183f-4c7c-a3b7-5c6c033662ba",
   "metadata": {},
   "outputs": [],
   "source": [
    "# Pfad zur R-Data-Datei (relativ zum Skript-Standort)\n",
    "rdata_path = os.path.join(\"Data\", \"Sangerdata.Rdata\")\n",
    "\n",
    "# --- Daten einlesen (pyreadr) ---\n",
    "# liefert ein dict: Schlüssel sind die Objekt-Namen im R-Environment\n",
    "rdata = pyreadr.read_r(rdata_path)\n",
    "data = rdata[\"data\"]\n",
    "\n",
    "# R-Indizes sind 1-basiert, in Python 0-basiert:\n",
    "gene_row = 24266 - 1\n",
    "\n",
    "# Data from gene CCT8 corresponds to line 24266\n",
    "# y: Ausprägung für Gen CCT8\n",
    "y = data.iloc[gene_row, 1:].astype(float).values\n",
    "\n",
    "# x: alle anderen Zeilen, ohne erste Spalte, transponiert\n",
    "x = data.drop(index=gene_row).iloc[:, 1:].astype(float).values.T\n",
    "\n",
    "# Skalierung analog zu R: X nach Spalten skalieren und durch sqrt(n) teilen\n",
    "n, p = x.shape\n",
    "X = scale(x) / np.sqrt(n)\n",
    "y = scale(y)"
   ]
  },
  {
   "cell_type": "code",
   "execution_count": 10,
   "id": "6f882a58-5e40-4015-9f78-ccc164ee95de",
   "metadata": {},
   "outputs": [],
   "source": [
    "# --- Methodenliste (ohne stepwise_reduced & stepwise_ff) ---\n",
    "methods = [stepwise_plain, L0opt_CDPSI, L0opt_CD, lassonet, lassonet_plus, deep2stage, deep2stage_plus]\n",
    "method_names = [\"stepwise_plain\", \"L0opt_CDPSI\", \"L0opt_CD\", \"lassonet\", \"lassonet_plus\", \"deep2stage\", \"deep2stage_plus\"]\n",
    "TORCH_METHODS = {\"lassonet\", \"lassonet_plus\", \"deep2stage\", \"deep2stage_plus\"}\n",
    "# Ergebnis-Container\n",
    "results = {}\n",
    "runtimes = {}"
   ]
  },
  {
   "cell_type": "code",
   "execution_count": 8,
   "id": "73d42dcc-cba3-448d-b861-133e80e3a372",
   "metadata": {},
   "outputs": [
    {
     "name": "stdout",
     "output_type": "stream",
     "text": [
      "Starte Methode: stepwise_plain\n"
     ]
    },
    {
     "ename": "NameError",
     "evalue": "name 'i' is not defined",
     "output_type": "error",
     "traceback": [
      "\u001b[31m---------------------------------------------------------------------------\u001b[39m",
      "\u001b[31mNameError\u001b[39m                                 Traceback (most recent call last)",
      "\u001b[36mCell\u001b[39m\u001b[36m \u001b[39m\u001b[32mIn[8]\u001b[39m\u001b[32m, line 3\u001b[39m\n\u001b[32m      1\u001b[39m \u001b[38;5;28;01mfor\u001b[39;00m method, name \u001b[38;5;129;01min\u001b[39;00m \u001b[38;5;28mzip\u001b[39m(methods, method_names):\n\u001b[32m      2\u001b[39m     \u001b[38;5;28mprint\u001b[39m(\u001b[33mf\u001b[39m\u001b[33m\"\u001b[39m\u001b[33mStarte Methode: \u001b[39m\u001b[38;5;132;01m{\u001b[39;00mname\u001b[38;5;132;01m}\u001b[39;00m\u001b[33m\"\u001b[39m)\n\u001b[32m----> \u001b[39m\u001b[32m3\u001b[39m     seed_call = make_call_seed(method_idx=\u001b[43mi\u001b[49m, gene_row=gene_row)\n\u001b[32m      4\u001b[39m     reseed(seed_call, use_torch=(name \u001b[38;5;129;01min\u001b[39;00m TORCH_METHODS))\n\u001b[32m      6\u001b[39m     start = time()\n",
      "\u001b[31mNameError\u001b[39m: name 'i' is not defined"
     ]
    }
   ],
   "source": [
    "for i, (method, name) in enumerate(zip(methods, method_names)):\n",
    "    print(f\"Starte Methode: {name}\")\n",
    "    seed_call = make_call_seed(method_idx=i, gene_row=gene_row)\n",
    "    reseed(seed_call, use_torch=(name in TORCH_METHODS))\n",
    "    \n",
    "    start = time()\n",
    "    result = method(y, X)\n",
    "    end = time()\n",
    "    \n",
    "    results[name] = result\n",
    "    runtimes[name] = end - start\n",
    "\n",
    "# --- Speichern ---\n",
    "out_path = os.path.join(results_folder, \"RealData_eQTL.pkl\")\n",
    "with open(out_path, \"wb\") as f:\n",
    "    pickle.dump({\n",
    "        \"results\": results,\n",
    "        \"runtimes\": runtimes,\n",
    "        \"method_names\": method_names,\n",
    "        \"n\": n,\n",
    "        \"p\": p\n",
    "    }, f)\n",
    "\n",
    "print(f\"Alle Ergebnisse gespeichert in: {out_path}\")"
   ]
  },
  {
   "cell_type": "code",
   "execution_count": null,
   "id": "ac4e8094-f997-4242-84f7-e117bd47e6a0",
   "metadata": {},
   "outputs": [],
   "source": []
  },
  {
   "cell_type": "code",
   "execution_count": null,
   "id": "3e1117e3-ef9b-401b-8a5e-44f327e528f4",
   "metadata": {},
   "outputs": [],
   "source": []
  }
 ],
 "metadata": {
  "kernelspec": {
   "display_name": "Python 3 (ipykernel)",
   "language": "python",
   "name": "python3"
  },
  "language_info": {
   "codemirror_mode": {
    "name": "ipython",
    "version": 3
   },
   "file_extension": ".py",
   "mimetype": "text/x-python",
   "name": "python",
   "nbconvert_exporter": "python",
   "pygments_lexer": "ipython3",
   "version": "3.12.3"
  }
 },
 "nbformat": 4,
 "nbformat_minor": 5
}
